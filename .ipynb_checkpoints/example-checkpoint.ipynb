{
 "cells": [
  {
   "cell_type": "code",
   "execution_count": 2,
   "metadata": {},
   "outputs": [],
   "source": [
    "\n",
    "import matplotlib.pyplot as plt\n",
    "import numpy as np\n",
    "\n",
    "import numpy as np\n",
    "import matplotlib.pyplot as plt\n",
    "import matplotlib.animation as animation\n",
    "import seaborn as sns\n",
    "import pandas as pd\n",
    "\n",
    "# %matplotlib\n",
    "\n",
    "import matplotlib.patches as patches\n",
    "# from rebuilding import Rebuilding\n",
    "# from calculation import Calculate\n",
    "from matplotlib.animation import ArtistAnimation\n",
    "from matplotlib.ticker import NullLocator"
   ]
  },
  {
   "cell_type": "code",
   "execution_count": 3,
   "metadata": {},
   "outputs": [
    {
     "data": {
      "text/plain": [
       "0.46162475477647225"
      ]
     },
     "execution_count": 3,
     "metadata": {},
     "output_type": "execute_result"
    }
   ],
   "source": [
    "np.random.uniform()"
   ]
  },
  {
   "cell_type": "code",
   "execution_count": 4,
   "metadata": {},
   "outputs": [
    {
     "name": "stderr",
     "output_type": "stream",
     "text": [
      "MovieWriter avconv unavailable; using Pillow instead.\n"
     ]
    }
   ],
   "source": [
    "from matplotlib import animation\n",
    "# solve the ode problem of the double compound pendulum again\n",
    "\n",
    "from scipy.integrate import odeint\n",
    "from numpy import cos, sin\n",
    "\n",
    "g = 9.82; L = 0.5; m = 0.1\n",
    "\n",
    "def dx(x, t):\n",
    "    x1, x2, x3, x4 = x[0], x[1], x[2], x[3]\n",
    "\n",
    "    dx1 = 6.0/(m*L**2) * (2 * x3 - 3 * cos(x1-x2) * x4)/(16 - 9 * cos(x1-x2)**2)\n",
    "    dx2 = 6.0/(m*L**2) * (8 * x4 - 3 * cos(x1-x2) * x3)/(16 - 9 * cos(x1-x2)**2)\n",
    "    dx3 = -0.5 * m * L**2 * ( dx1 * dx2 * sin(x1-x2) + 3 * (g/L) * sin(x1))\n",
    "    dx4 = -0.5 * m * L**2 * (-dx1 * dx2 * sin(x1-x2) + (g/L) * sin(x2))\n",
    "    return [dx1, dx2, dx3, dx4]\n",
    "\n",
    "x0 = [np.pi/2, np.pi/2, 0, 0]  # initial state\n",
    "t = np.linspace(0, 10, 250) # time coordinates\n",
    "x = odeint(dx, x0, t)    # solve the ODE problem\n",
    "\n",
    "fig, ax = plt.subplots(figsize=(5,5))\n",
    "\n",
    "ax.set_ylim([-1.5, 0.5])\n",
    "ax.set_xlim([1, -1])\n",
    "\n",
    "pendulum1, = ax.plot([], [], color=\"red\", lw=2)\n",
    "pendulum2, = ax.plot([], [], color=\"blue\", lw=2)\n",
    "\n",
    "def init():\n",
    "    pendulum1.set_data([], [])\n",
    "    pendulum2.set_data([], [])\n",
    "    return pendulum1, pendulum2, \n",
    "\n",
    "def update(n): \n",
    "    # n = frame counter\n",
    "    # calculate the positions of the pendulums\n",
    "    x1 = + L * sin(x[n, 0])\n",
    "    y1 = - L * cos(x[n, 0])\n",
    "    x2 = x1 + L * sin(x[n, 1])\n",
    "    y2 = y1 - L * cos(x[n, 1])\n",
    "\n",
    "    # update the line data\n",
    "    pendulum1.set_data([0 ,x1], [0 ,y1])\n",
    "    pendulum2.set_data([x1,x2], [y1,y2])\n",
    "\n",
    "    return pendulum1, pendulum2, \n",
    "\n",
    "anim = animation.FuncAnimation(fig, update, init_func=init, frames=len(t), blit=True)\n",
    "\n",
    "\n",
    "anim.save('animation.gif', fps=20, writer=\"avconv\", codec=\"libx264\")\n",
    "\n",
    "plt.close(fig)"
   ]
  },
  {
   "cell_type": "code",
   "execution_count": null,
   "metadata": {},
   "outputs": [],
   "source": []
  }
 ],
 "metadata": {
  "kernelspec": {
   "display_name": "Python 3 (ipykernel)",
   "language": "python",
   "name": "python3"
  },
  "language_info": {
   "codemirror_mode": {
    "name": "ipython",
    "version": 3
   },
   "file_extension": ".py",
   "mimetype": "text/x-python",
   "name": "python",
   "nbconvert_exporter": "python",
   "pygments_lexer": "ipython3",
   "version": "3.8.8"
  }
 },
 "nbformat": 4,
 "nbformat_minor": 2
}
